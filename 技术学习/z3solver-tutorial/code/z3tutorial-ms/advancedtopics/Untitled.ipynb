{
 "cells": [
  {
   "cell_type": "code",
   "execution_count": 1,
   "metadata": {},
   "outputs": [],
   "source": [
    "from z3 import *"
   ]
  },
  {
   "cell_type": "code",
   "execution_count": 3,
   "metadata": {},
   "outputs": [
    {
     "name": "stdout",
     "output_type": "stream",
     "text": [
      "Int\n",
      "Real\n",
      "Bool\n"
     ]
    }
   ],
   "source": [
    "x =Int('x')\n",
    "y=Real('y')\n",
    "\n",
    "print((x+1).sort())\n",
    "print((y+1).sort())\n",
    "dprint((x>=2).sort())"
   ]
  },
  {
   "cell_type": "code",
   "execution_count": 5,
   "metadata": {},
   "outputs": [
    {
     "name": "stdout",
     "output_type": "stream",
     "text": [
      "True\n",
      "False\n",
      "ToReal(x) + y ToReal(x) + y\n",
      "True\n",
      "False\n"
     ]
    }
   ],
   "source": [
    "# x,y = Ints('x y')\n",
    "print(eq(x+y,x+y))\n",
    "print(eq(y+x,x+y)) # 不相等是由于被强制转化了类型\n",
    "\n",
    "n = x+y\n",
    "print(n,x+y)\n",
    "\n",
    "# x2 is eq to x\n",
    "x2 = Int('x')\n",
    "\n",
    "print(eq(x,x2))\n",
    "\n",
    "print(eq(Int('x'),Real('x')))\n",
    "\n"
   ]
  },
  {
   "cell_type": "code",
   "execution_count": 6,
   "metadata": {},
   "outputs": [
    {
     "name": "stdout",
     "output_type": "stream",
     "text": [
      "1880882057\n",
      "3655631788\n",
      "2867189042\n"
     ]
    }
   ],
   "source": [
    "x = Int('x')\n",
    "print((x+1).hash())\n",
    "print((1+x).hash())\n",
    "print(x.sort().hash())"
   ]
  },
  {
   "cell_type": "code",
   "execution_count": 7,
   "metadata": {},
   "outputs": [
    {
     "data": {
      "text/html": [
       "x"
      ],
      "text/plain": [
       "x"
      ]
     },
     "execution_count": 7,
     "metadata": {},
     "output_type": "execute_result"
    }
   ],
   "source": [
    "x.decl()"
   ]
  },
  {
   "cell_type": "code",
   "execution_count": 8,
   "metadata": {},
   "outputs": [
    {
     "data": {
      "text/plain": [
       "0"
      ]
     },
     "execution_count": 8,
     "metadata": {},
     "output_type": "execute_result"
    }
   ],
   "source": [
    "x.num_args()"
   ]
  },
  {
   "cell_type": "code",
   "execution_count": 14,
   "metadata": {},
   "outputs": [
    {
     "name": "stdout",
     "output_type": "stream",
     "text": [
      "is expression:  True\n",
      "True\n",
      "is application: True\n",
      "decl:  +\n",
      "num args:  2\n",
      "arg( 0 )-> x\n",
      "arg( 1 )-> 1\n"
     ]
    }
   ],
   "source": [
    "x = Int('x')\n",
    "print(\"is expression: \",is_expr(x))\n",
    "print(is_app(x))\n",
    "n = x + 1\n",
    "print(\"is application:\", is_app(n))\n",
    "print('decl: ',n.decl()) # 把declaration理解为运算符吗\n",
    "print(\"num args: \", n.num_args())\n",
    "for i in range(n.num_args()):\n",
    "    print(\"arg(\",i,\")->\",n.arg(i))"
   ]
  },
  {
   "cell_type": "code",
   "execution_count": 23,
   "metadata": {},
   "outputs": [
    {
     "name": "stdout",
     "output_type": "stream",
     "text": [
      "False\n",
      "True\n",
      "x\n",
      "Int\n",
      "0\n",
      "True\n",
      "f\n",
      "f.range() Bool\n",
      "f.arity(): 2\n"
     ]
    }
   ],
   "source": [
    "x = Int('x')\n",
    "x_d = x.decl()\n",
    "print(is_expr(x_d))\n",
    "print(is_func_decl(x_d))\n",
    "print(x_d.name())\n",
    "print(x_d.range())\n",
    "print(x_d.arity())\n",
    "\n",
    "# x_d() creates an application with 0 arguments using x_d.\n",
    "print(eq(x_d(),x))\n",
    "\n",
    "# f is a function from (Int, Real) to Bool\n",
    "f = Function('f',IntSort(),RealSort(),BoolSort())\n",
    "print(f.name())\n",
    "print(\"f.range()\",f.range())\n",
    "print(\"f.arity():\",f.arity())"
   ]
  },
  {
   "cell_type": "code",
   "execution_count": 25,
   "metadata": {},
   "outputs": [
    {
     "name": "stdout",
     "output_type": "stream",
     "text": [
      "True\n"
     ]
    }
   ],
   "source": [
    "x,y = Ints('x y')\n",
    "print((x+y).decl().kind()  == Z3_OP_ADD)"
   ]
  },
  {
   "cell_type": "code",
   "execution_count": 29,
   "metadata": {},
   "outputs": [
    {
     "name": "stdout",
     "output_type": "stream",
     "text": [
      "f(f(g(x), g(g(x))), g(g(y)))\n",
      "f(f(g(x), y), g(x + 1))\n"
     ]
    }
   ],
   "source": [
    "x,y = Ints('x y')\n",
    "f = Function('f', IntSort(), IntSort(), IntSort())\n",
    "g = Function('g', IntSort(), IntSort())\n",
    "n = f(f(g(x), g(g(x))), g(g(y)))\n",
    "print(n)\n",
    "# subsitute g(g(x)) with y and g(y) with x + 1\n",
    "\n",
    "print(substitute(n,(g(g(x)),y),(g(y),x+1)))"
   ]
  },
  {
   "cell_type": "code",
   "execution_count": 39,
   "metadata": {},
   "outputs": [
    {
     "name": "stdout",
     "output_type": "stream",
     "text": [
      "A[x]\n",
      "A[x]\n",
      "Store(A, x, 10)\n",
      "1 + x\n"
     ]
    }
   ],
   "source": [
    "# 注意，都是可以将一些对象写别名的\n",
    "I = IntSort()\n",
    "# A is an array from integer to integer\n",
    "A= Array('A', I, I)\n",
    "\n",
    "x = Int('x')\n",
    "print(A[x])\n",
    "print(Select(A,x))\n",
    "print(Store(A, x,10))\n",
    "print(simplify(Select(Store(A,2,x+1),2))) # A[2] 这个位置被存储了x+1这个数据。\n"
   ]
  },
  {
   "cell_type": "code",
   "execution_count": 40,
   "metadata": {
    "scrolled": true
   },
   "outputs": [
    {
     "name": "stdout",
     "output_type": "stream",
     "text": [
      "x[0] + x[1] + x[2] >= 0\n",
      "x__0 + x__1 + x__2 >= 0\n",
      "x__0 + x__1 + x__2 >= 0\n"
     ]
    }
   ],
   "source": [
    "# We want an array with 3 elements\n",
    "# 1. Bad solution\n",
    "X = Array('x', IntSort(),IntSort())\n",
    "\n",
    "print(X[0] + X[1] +X[2] >= 0)\n",
    "\n",
    "# 2. More efficient solution\n",
    "X = IntVector('x', 3)\n",
    "print(X[0] + X[1] + X[2] >=0)\n",
    "print(Sum(X)>=0)"
   ]
  },
  {
   "cell_type": "code",
   "execution_count": 49,
   "metadata": {},
   "outputs": [
    {
     "name": "stdout",
     "output_type": "stream",
     "text": [
      "[A = Store(K(Int, 2), 0, 0), y = 0, x = 0]\n"
     ]
    }
   ],
   "source": [
    "A = Array('A', IntSort(), IntSort())\n",
    "x,y = Ints('x y')\n",
    "solve(A[x] == x, Store(A, x, y)== A)\n"
   ]
  },
  {
   "cell_type": "code",
   "execution_count": 55,
   "metadata": {},
   "outputs": [
    {
     "name": "stdout",
     "output_type": "stream",
     "text": [
      "[a = 1]\n",
      "no solution\n"
     ]
    }
   ],
   "source": [
    "AllOne = K(IntSort(), 1)\n",
    "a, i = Ints('a i')\n",
    "solve(a == AllOne[i])\n",
    "# The following constraints do not have a solution\n",
    "# solve(a!= 1, a ==AllOne[i])\n",
    "\n",
    "solve(a == AllOne[i],a!=1)"
   ]
  },
  {
   "cell_type": "code",
   "execution_count": 59,
   "metadata": {},
   "outputs": [
    {
     "name": "stdout",
     "output_type": "stream",
     "text": [
      "ForAll([x, y], f(x, y) == 0)\n",
      "Exists(x, f(x, x) >= 0)\n",
      "[b = 2, a = 0, f = [(0, 2) -> 1, else -> 0]]\n"
     ]
    }
   ],
   "source": [
    "f = Function('f', IntSort(), IntSort(), IntSort())\n",
    "x,y = Ints('x y')\n",
    "print(ForAll([x,y],f(x,y)==0))\n",
    "print(Exists(x, f(x, x)>=0))\n",
    "\n",
    "a,b = Ints('a b')\n",
    "solve(ForAll(x, f(x, x)==0), f(a,b)==1)"
   ]
  },
  {
   "cell_type": "code",
   "execution_count": null,
   "metadata": {},
   "outputs": [],
   "source": []
  },
  {
   "cell_type": "code",
   "execution_count": null,
   "metadata": {},
   "outputs": [],
   "source": []
  }
 ],
 "metadata": {
  "kernelspec": {
   "display_name": "Python 3",
   "language": "python",
   "name": "python3"
  },
  "language_info": {
   "codemirror_mode": {
    "name": "ipython",
    "version": 3
   },
   "file_extension": ".py",
   "mimetype": "text/x-python",
   "name": "python",
   "nbconvert_exporter": "python",
   "pygments_lexer": "ipython3",
   "version": "3.7.6"
  }
 },
 "nbformat": 4,
 "nbformat_minor": 4
}
